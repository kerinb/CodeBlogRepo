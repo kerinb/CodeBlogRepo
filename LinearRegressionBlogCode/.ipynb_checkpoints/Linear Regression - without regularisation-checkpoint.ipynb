{
 "cells": [
  {
   "cell_type": "markdown",
   "metadata": {},
   "source": [
    "# Linear Regression from scratch with comments"
   ]
  },
  {
   "cell_type": "code",
   "execution_count": 1,
   "metadata": {},
   "outputs": [],
   "source": [
    "# Imports\n",
    "import numpy as np\n",
    "import pandas as pd\n",
    "from sklearn.datasets import load_boston\n",
    "from sklearn.metrics import r2_score\n",
    "import math\n",
    "import matplotlib.pyplot as plt\n",
    "\n",
    "# required constants for script\n",
    "r=0.77; s=1; min_error = 10e-10\n",
    "num_iters = 10000; alpha = 0.01\n",
    "\n",
    "# Load data \n",
    "boston = load_boston()\n",
    "boston_dataset = pd.DataFrame(boston.data, columns=boston.feature_names)\n",
    "boston_dataset['MEDV'] =  boston.target\n",
    "y = boston_dataset.MEDV\n",
    "X = boston_dataset.drop(['MEDV'], axis=1)"
   ]
  },
  {
   "cell_type": "markdown",
   "metadata": {},
   "source": [
    "# Supporting Functions\n",
    "## Split data into test/train sets"
   ]
  },
  {
   "cell_type": "code",
   "execution_count": 2,
   "metadata": {},
   "outputs": [],
   "source": [
    "def train_test_split(x, y, ratio, seed=1):\n",
    "    \"\"\"split the dataset based on the split ratio.\"\"\"\n",
    "    # set seed to produce reproducable results\n",
    "    np.random.seed(seed)\n",
    "    \n",
    "    # generate random indices\n",
    "    indices = np.random.permutation(len(y))\n",
    "    index_split = int(np.floor(ratio * len(y)))\n",
    "    \n",
    "    # create split\n",
    "    x_train = x.iloc[indices[: index_split]]\n",
    "    x_test = x.iloc[indices[index_split:]]\n",
    "    y_train = y.iloc[indices[: index_split]]\n",
    "    y_test = y.iloc[indices[index_split:]]\n",
    "    return x_train, x_test, y_train, y_test"
   ]
  },
  {
   "cell_type": "markdown",
   "metadata": {},
   "source": [
    "## Adding constant for easy computation of weights"
   ]
  },
  {
   "cell_type": "code",
   "execution_count": 3,
   "metadata": {},
   "outputs": [],
   "source": [
    "def add_theta_0(x, X):\n",
    "    x[\"INTERCEPT\"] = pd.Series(np.ones(X.shape[0]))\n",
    "    return x"
   ]
  },
  {
   "cell_type": "markdown",
   "metadata": {},
   "source": [
    "## Linear Regression"
   ]
  },
  {
   "cell_type": "code",
   "execution_count": 2,
   "metadata": {},
   "outputs": [
    {
     "ename": "NameError",
     "evalue": "name 'np' is not defined",
     "output_type": "error",
     "traceback": [
      "\u001b[1;31m---------------------------------------------------------------------------\u001b[0m",
      "\u001b[1;31mNameError\u001b[0m                                 Traceback (most recent call last)",
      "\u001b[1;32m<ipython-input-2-8fd75aeb4951>\u001b[0m in \u001b[0;36m<module>\u001b[1;34m\u001b[0m\n\u001b[0;32m      1\u001b[0m \u001b[1;31m#### START LINEAR REGRESSION ####\u001b[0m\u001b[1;33m\u001b[0m\u001b[1;33m\u001b[0m\u001b[1;33m\u001b[0m\u001b[0m\n\u001b[0;32m      2\u001b[0m \u001b[1;31m# Define variables to store weights and losses\u001b[0m\u001b[1;33m\u001b[0m\u001b[1;33m\u001b[0m\u001b[1;33m\u001b[0m\u001b[0m\n\u001b[1;32m----> 3\u001b[1;33m \u001b[0minit_weights\u001b[0m \u001b[1;33m=\u001b[0m \u001b[0mnp\u001b[0m\u001b[1;33m.\u001b[0m\u001b[0mzeros\u001b[0m\u001b[1;33m(\u001b[0m\u001b[0mlen\u001b[0m\u001b[1;33m(\u001b[0m\u001b[0mX_train\u001b[0m\u001b[1;33m.\u001b[0m\u001b[0mcolumns\u001b[0m\u001b[1;33m)\u001b[0m\u001b[1;33m)\u001b[0m\u001b[1;33m\u001b[0m\u001b[1;33m\u001b[0m\u001b[0m\n\u001b[0m\u001b[0;32m      4\u001b[0m \u001b[0mweights_list\u001b[0m \u001b[1;33m=\u001b[0m \u001b[1;33m[\u001b[0m\u001b[0minit_weights\u001b[0m\u001b[1;33m]\u001b[0m\u001b[1;33m\u001b[0m\u001b[1;33m\u001b[0m\u001b[0m\n\u001b[0;32m      5\u001b[0m \u001b[0mweights\u001b[0m \u001b[1;33m=\u001b[0m \u001b[0minit_weights\u001b[0m\u001b[1;33m\u001b[0m\u001b[1;33m\u001b[0m\u001b[0m\n",
      "\u001b[1;31mNameError\u001b[0m: name 'np' is not defined"
     ]
    }
   ],
   "source": [
    "# Split data into training and testing sets\n",
    "X_train, X_test, y_train, y_test = train_test_split(X, y, r, seed=s)\n",
    "X_train = add_theta_0((X_train - X_train.mean(axis=0))/ X_train.std(axis=0), X)\n",
    "X_test = add_theta_0((X_test - X_test.mean(axis=0))/ X_test.std(axis=0), X)\n",
    "\n",
    "#### START LINEAR REGRESSION ####\n",
    "# Define variables to store weights and losses\n",
    "init_weights = np.zeros(len(X_train.columns))\n",
    "weights_list = [init_weights]\n",
    "weights = init_weights\n",
    "losses = []\n",
    "prev = math.inf\n",
    "\n",
    "for n_iter in range(num_iters):\n",
    "    # compute loss, gradient and rmse(actual loss)\n",
    "    error = y_train - X_train.dot(weights)\n",
    "    derivative = 2*X_train.T.dot(error) / len(error)\n",
    "    loss = np.sqrt(np.mean(error**2))\n",
    "    \n",
    "    # gradient w by descent update\n",
    "    weights = weights + alpha * derivative\n",
    "    \n",
    "    # store w and loss\n",
    "    weights_list.append(weights)\n",
    "    losses.append(loss)\n",
    "    \n",
    "    #Stop earlier if we reached convergence\n",
    "    if(abs(loss - prev) < min_error) :\n",
    "        print(\"Reached Convergence !\")\n",
    "        break\n",
    "    prev = loss\n",
    "    \n",
    "#Get final weights\n",
    "params = weights_list[-1]"
   ]
  },
  {
   "cell_type": "code",
   "execution_count": 5,
   "metadata": {},
   "outputs": [
    {
     "data": {
      "text/plain": [
       "CRIM         -0.924876\n",
       "ZN            1.149424\n",
       "INDUS        -0.140303\n",
       "CHAS          0.625769\n",
       "NOX          -1.828513\n",
       "RM            2.517183\n",
       "AGE          -0.229414\n",
       "DIS          -3.307697\n",
       "RAD           2.760916\n",
       "TAX          -2.216898\n",
       "PTRATIO      -1.947403\n",
       "B             0.928697\n",
       "LSTAT        -3.568102\n",
       "INTERCEPT    22.471465\n",
       "dtype: float64"
      ]
     },
     "execution_count": 5,
     "metadata": {},
     "output_type": "execute_result"
    }
   ],
   "source": [
    "params"
   ]
  },
  {
   "cell_type": "markdown",
   "metadata": {},
   "source": [
    "# Evaluating the LR Implementation"
   ]
  },
  {
   "cell_type": "code",
   "execution_count": 6,
   "metadata": {},
   "outputs": [
    {
     "name": "stdout",
     "output_type": "stream",
     "text": [
      "R^2 value for LR: 0.7364491936746158\n",
      "Train loss : 4.573048428221888\n",
      "Test loss : 5.068864994366408\n"
     ]
    }
   ],
   "source": [
    "#Model is y = w2 + w0*PTRATIO + w1*LSTAT\n",
    "pred = params[13] + params[0]*X_test.CRIM + params[1]*X_test.ZN + params[2]*X_test.INDUS + params[3]*X_test.CHAS + params[4]*X_test.NOX + params[5]*X_test.RM + params[6]*X_test.AGE + params[7]*X_test.DIS + params[8]*X_test.RAD + params[9]*X_test.TAX + params[10]*X_test.PTRATIO + params[11]*X_test.B + params[12]*X_test.LSTAT \n",
    "# pred = params[13] + params[0]*X_test.RM\n",
    "print('R^2 value for LR: {0}'.format(r2_score(y_test, pred)))\n",
    "\n",
    "#Evaluate performance\n",
    "train_loss_np = losses[-1]\n",
    "print(\"Train loss : {}\".format(train_loss_np))\n",
    "test_loss_np = np.sqrt(2 * 1/2*np.mean((y_test - pred)**2))\n",
    "print(\"Test loss : {}\".format(test_loss_np))"
   ]
  },
  {
   "cell_type": "code",
   "execution_count": 7,
   "metadata": {},
   "outputs": [
    {
     "data": {
      "text/plain": [
       "Text(0.5, 1.0, 'Prices vs Predicted prices: $Y_i$ vs $h_i$')"
      ]
     },
     "execution_count": 7,
     "metadata": {},
     "output_type": "execute_result"
    },
    {
     "data": {
      "image/png": "[encoded data removed]",
      "text/plain": [
       "<Figure size 432x288 with 1 Axes>"
      ]
     },
     "metadata": {
      "needs_background": "light"
     },
     "output_type": "display_data"
    }
   ],
   "source": [
    "plt.scatter(y_test, pred)\n",
    "plt.xlabel(\"Prices: $Y_i$\")\n",
    "plt.ylabel(\"Predicted prices: $h_i$\")\n",
    "plt.title(\"Prices vs Predicted prices: $Y_i$ vs $h_i$\")"
   ]
  },
  {
   "cell_type": "markdown",
   "metadata": {},
   "source": [
    "# Linear Regression without regularisation using sklearn"
   ]
  },
  {
   "cell_type": "code",
   "execution_count": 8,
   "metadata": {},
   "outputs": [
    {
     "name": "stdout",
     "output_type": "stream",
     "text": [
      "0.7261570836552469\n"
     ]
    }
   ],
   "source": [
    "import numpy as np\n",
    "import pandas as pd\n",
    "\n",
    "from sklearn.datasets import load_boston\n",
    "from sklearn.model_selection import train_test_split\n",
    "from sklearn.linear_model import LinearRegression\n",
    "from sklearn.metrics import r2_score\n",
    "\n",
    "import math\n",
    "\n",
    "boston = load_boston()\n",
    "boston_dataset = pd.DataFrame(boston.data, columns=boston.feature_names)\n",
    "boston_dataset['MEDV'] =  boston.target\n",
    "\n",
    "y = boston_dataset.MEDV\n",
    "X  = boston_dataset.drop(['MEDV'], axis=1)\n",
    "\n",
    "# y = boston.target\n",
    "\n",
    "X_train, X_test, y_train, y_test = train_test_split(X, y, test_size=0.33, random_state=42)\n",
    "\n",
    "reg = LinearRegression().fit(X_train, y_train)\n",
    "print(reg.score(X_test, y_test))"
   ]
  },
  {
   "cell_type": "code",
   "execution_count": 9,
   "metadata": {},
   "outputs": [
    {
     "data": {
      "text/plain": [
       "Text(0.5, 1.0, 'Prices vs Predicted prices: $Y_i$ vs $h_i$')"
      ]
     },
     "execution_count": 9,
     "metadata": {},
     "output_type": "execute_result"
    },
    {
     "data": {
      "image/png": "[encoded data removed]",
      "text/plain": [
       "<Figure size 432x288 with 1 Axes>"
      ]
     },
     "metadata": {
      "needs_background": "light"
     },
     "output_type": "display_data"
    }
   ],
   "source": [
    "pred_sk = reg.predict(np.array(X_test))\n",
    "\n",
    "plt.scatter(y_test, pred_sk)\n",
    "plt.xlabel(\"Prices: $Y_i$\")\n",
    "plt.ylabel(\"Predicted prices: $h_i$\")\n",
    "plt.title(\"Prices vs Predicted prices: $Y_i$ vs $h_i$\")"
   ]
  },
  {
   "cell_type": "code",
   "execution_count": null,
   "metadata": {},
   "outputs": [],
   "source": []
  }
 ],
 "metadata": {
  "kernelspec": {
   "display_name": "Python 3",
   "language": "python",
   "name": "python3"
  },
  "language_info": {
   "codemirror_mode": {
    "name": "ipython",
    "version": 3
   },
   "file_extension": ".py",
   "mimetype": "text/x-python",
   "name": "python",
   "nbconvert_exporter": "python",
   "pygments_lexer": "ipython3",
   "version": "3.7.3"
  }
 },
 "nbformat": 4,
 "nbformat_minor": 2
}
